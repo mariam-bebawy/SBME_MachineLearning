{
 "cells": [
  {
   "cell_type": "markdown",
   "id": "a39de45c-e2ce-4852-9494-f21bb9f9beb7",
   "metadata": {},
   "source": [
    "# Assignment_3 SVM"
   ]
  },
  {
   "cell_type": "code",
   "execution_count": 1,
   "id": "1dbf56cc-0f38-472c-a91e-1563bd54ea61",
   "metadata": {},
   "outputs": [],
   "source": [
    "import warnings\n",
    "warnings.filterwarnings('ignore')"
   ]
  },
  {
   "cell_type": "code",
   "execution_count": 2,
   "id": "643e7732-dd96-47df-854f-007ec5d5e10c",
   "metadata": {},
   "outputs": [],
   "source": [
    "import numpy as np\n",
    "from matplotlib.colors import ListedColormap\n",
    "import matplotlib.pyplot as plt"
   ]
  },
  {
   "cell_type": "markdown",
   "id": "24b0cbf7-010c-4f1e-96e5-73d79e99a007",
   "metadata": {
    "tags": []
   },
   "source": [
    "# Part 2: SVM"
   ]
  },
  {
   "cell_type": "markdown",
   "id": "ce7b0851-a39c-4b17-99f6-a0d404a2577e",
   "metadata": {},
   "source": [
    "### Use the following function to plot the classification regions"
   ]
  },
  {
   "cell_type": "code",
   "execution_count": 3,
   "id": "8b776233-2fdd-4034-9c72-688869cdedc1",
   "metadata": {},
   "outputs": [],
   "source": [
    "def plot_class_regions_for_classifier(clf, X, y, X_test=None, y_test=None, title=None, target_names = None, plot_decision_regions = True):\n",
    "\n",
    "    numClasses = np.amax(y) + 1\n",
    "    color_list_light = ['#FFFFAA', '#EFEFEF', '#AAFFAA', '#AAAAFF']\n",
    "    color_list_bold = ['#EEEE00', '#000000', '#00CC00', '#0000CC']\n",
    "    cmap_light = ListedColormap(color_list_light[0:numClasses])\n",
    "    cmap_bold  = ListedColormap(color_list_bold[0:numClasses])\n",
    "\n",
    "    h = 0.03\n",
    "    k = 0.5\n",
    "    x_plot_adjust = 0.1\n",
    "    y_plot_adjust = 0.1\n",
    "    plot_symbol_size = 50\n",
    "\n",
    "    x_min = X[:, 0].min()\n",
    "    x_max = X[:, 0].max()\n",
    "    y_min = X[:, 1].min()\n",
    "    y_max = X[:, 1].max()\n",
    "    x2, y2 = np.meshgrid(np.arange(x_min-k, x_max+k, h), np.arange(y_min-k, y_max+k, h))\n",
    "    # np.c_ Translates slice objects to concatenation along the second axis\n",
    "    # e.g. np.c_[np.array([[1,2,3]]), 0, 0, np.array([[4,5,6]])]\n",
    "    # ravel() Returns a contiguous flattened array.\n",
    "    # x = np.array([[1, 2, 3], [4, 5, 6]])\n",
    "    # np.ravel(x) = [1 2 3 4 5 6]\n",
    "    P = clf.predict(np.c_[x2.ravel(), y2.ravel()])\n",
    "    P = P.reshape(x2.shape)\n",
    "    plt.figure()\n",
    "    if plot_decision_regions:\n",
    "        plt.contourf(x2, y2, P, cmap=cmap_light, alpha = 0.8)\n",
    "\n",
    "    plt.scatter(X[:, 0], X[:, 1], c=y, cmap=cmap_bold, s=plot_symbol_size, edgecolor = 'black')\n",
    "    plt.xlim(x_min - x_plot_adjust, x_max + x_plot_adjust)\n",
    "    plt.ylim(y_min - y_plot_adjust, y_max + y_plot_adjust)\n",
    "\n",
    "    if (X_test is not None):\n",
    "        plt.scatter(X_test[:, 0], X_test[:, 1], c=y_test, cmap=cmap_bold, s=plot_symbol_size, marker='^', edgecolor = 'black')\n",
    "        train_score = clf.score(X, y)\n",
    "        test_score  = clf.score(X_test, y_test)\n",
    "        title = title + \"\\nTrain score = {:.2f}, Test score = {:.2f}\".format(train_score, test_score)\n",
    "\n",
    "    if (target_names is not None):\n",
    "        legend_handles = []\n",
    "        for i in range(0, len(target_names)):\n",
    "            patch = mpatches.Patch(color=color_list_bold[i], label=target_names[i])\n",
    "            legend_handles.append(patch)\n",
    "        plt.legend(loc=0, handles=legend_handles)\n",
    "\n",
    "    if (title is not None):\n",
    "        plt.title(title)\n",
    "    plt.show()"
   ]
  },
  {
   "cell_type": "markdown",
   "id": "164ced46-3aab-4bb3-8be1-ce62dfbd841d",
   "metadata": {},
   "source": [
    "### Use the following dataset in questions 1, 2, and 3."
   ]
  },
  {
   "cell_type": "code",
   "execution_count": 4,
   "id": "99970010-3f35-42b7-8ae5-39e0b905db3e",
   "metadata": {},
   "outputs": [],
   "source": [
    "from sklearn.datasets import make_classification\n",
    "\n",
    "X, y = make_classification(n_samples = 100, n_features=2,\n",
    "                                n_redundant=0, n_informative=2,\n",
    "                                n_clusters_per_class=1, flip_y = 0.1,\n",
    "                                class_sep = 0.5, random_state=0)"
   ]
  },
  {
   "cell_type": "markdown",
   "id": "c4ec298b-d4af-467f-8379-cad0c7704fbf",
   "metadata": {},
   "source": [
    "#### Question 1\n",
    "Split the data into training and testing datasets (use random_state=0 and 25% of the data for testing)"
   ]
  },
  {
   "cell_type": "code",
   "execution_count": 5,
   "id": "70a204f4-9316-4b45-8ccd-18614a4fd61c",
   "metadata": {},
   "outputs": [],
   "source": [
    "from sklearn.model_selection import  train_test_split\n",
    "X_train, X_test, y_train, y_test = train_test_split(X,y, test_size=0.25,random_state=0)"
   ]
  },
  {
   "cell_type": "markdown",
   "id": "ef0f7835-a714-4bfc-92ed-6eab6a6e24f0",
   "metadata": {},
   "source": [
    "#### Question 2\n",
    "1. Train an SVM classifier using linear kernel.\n",
    "2. Plot the classification regions using the training dataset."
   ]
  },
  {
   "cell_type": "code",
   "execution_count": 6,
   "id": "82b7faaf-35fa-4993-aedd-9cd083657726",
   "metadata": {},
   "outputs": [
    {
     "data": {
      "text/plain": [
       "SVC(kernel='linear')"
      ]
     },
     "execution_count": 6,
     "metadata": {},
     "output_type": "execute_result"
    }
   ],
   "source": [
    "# from sklearn import svm\n",
    "# clf = svm.SVC()\n",
    "# clf.fit(X_train, y_train)\n",
    "\n",
    "from sklearn.svm import SVC\n",
    "clf = SVC(kernel='linear')\n",
    "clf.fit(X_train, y_train)"
   ]
  },
  {
   "cell_type": "code",
   "execution_count": 7,
   "id": "9f5f8b30-bf86-400d-9154-4b9bf47d3804",
   "metadata": {},
   "outputs": [
    {
     "data": {
      "image/png": "[encoded data removed]",
      "text/plain": [
       "<Figure size 432x288 with 1 Axes>"
      ]
     },
     "metadata": {
      "needs_background": "light"
     },
     "output_type": "display_data"
    }
   ],
   "source": [
    "plot_class_regions_for_classifier(clf, X_train, y_train)"
   ]
  },
  {
   "cell_type": "markdown",
   "id": "498f2792-e6fb-46dc-b914-ef6cfe161f17",
   "metadata": {},
   "source": [
    "#### Question 3\n",
    "1. Train an SVM classifier using linear kernel with C=0.00001.\n",
    "2. Train another SVM classifier using linear kernel with C=100\n",
    "3. Plot the classification regions for both cases using the training dataset.\n",
    "4. Comment on the results."
   ]
  },
  {
   "cell_type": "code",
   "execution_count": 8,
   "id": "8a31a9d1-90e2-484e-981b-6e103bb3bfe3",
   "metadata": {},
   "outputs": [],
   "source": [
    "from sklearn.svm import SVC\n",
    "from sklearn.pipeline import make_pipeline"
   ]
  },
  {
   "cell_type": "code",
   "execution_count": 9,
   "id": "cb7d306c-645f-4bf2-8afd-aab67a2b143e",
   "metadata": {},
   "outputs": [
    {
     "data": {
      "image/png": "[encoded data removed]",
      "text/plain": [
       "<Figure size 432x288 with 1 Axes>"
      ]
     },
     "metadata": {
      "needs_background": "light"
     },
     "output_type": "display_data"
    }
   ],
   "source": [
    "clf1 = SVC(C=0.00001, kernel='linear')\n",
    "clf1.fit(X_train, y_train)\n",
    "plot_class_regions_for_classifier(clf1, X_train, y_train)"
   ]
  },
  {
   "cell_type": "code",
   "execution_count": 10,
   "id": "62526adc-cc8a-4456-a314-4a27ef9b5b67",
   "metadata": {},
   "outputs": [
    {
     "data": {
      "image/png": "[encoded data removed]",
      "text/plain": [
       "<Figure size 432x288 with 1 Axes>"
      ]
     },
     "metadata": {
      "needs_background": "light"
     },
     "output_type": "display_data"
    }
   ],
   "source": [
    "clf2 = SVC(C=100, kernel='linear')\n",
    "clf2.fit(X_train, y_train)\n",
    "plot_class_regions_for_classifier(clf2, X_train, y_train)"
   ]
  },
  {
   "cell_type": "markdown",
   "id": "8e87b243-aced-4c7e-87fe-a34cde9d978b",
   "metadata": {},
   "source": [
    "C: float, default=1.0 ----> Regularization parameter. The strength of the regularization is inversely proportional to C. Must be strictly positive. The penalty is a squared l2 penalty.  \n",
    "*https://scikit-learn.org/stable/modules/generated/sklearn.svm.SVC.html*  \n",
    "\n",
    "**1.** C=0.00001 ----> C is low ----> regularization is high ----> underfitting may occur ----> only 1 class for the data.  \n",
    "**2.** C=100 ----> C is high ----> regularization is low ----> overfitting may occur ----> 2 classes for the data, classification is present and correct."
   ]
  },
  {
   "cell_type": "markdown",
   "id": "cfe494a9-1f84-4b49-bf4f-73c46c603bac",
   "metadata": {},
   "source": [
    "### Use the fruits dataset in questions 4, 5, 6."
   ]
  },
  {
   "cell_type": "code",
   "execution_count": 11,
   "id": "78a7c63d-c3e4-4d70-b5d5-d25685bc9099",
   "metadata": {},
   "outputs": [],
   "source": [
    "import pandas as pd\n",
    "fruits = pd.read_table('fruit_data_with_colors.txt')\n",
    "feature_names_fruits = ['height', 'width', 'mass', 'color_score']"
   ]
  },
  {
   "cell_type": "markdown",
   "id": "66352dde-4078-44ab-8887-83f5692e27bb",
   "metadata": {},
   "source": [
    "#### Question 4\n",
    "1. Split the data by columns into X_fruits and y_fruits where X_fruits is the data records and y_fruits is the labels.\n",
    "2. Using only the **'height'** and **'width'** features, split the data into training and testing using random_state=0, and 25% of the data for testing.\n",
    "3. Using **sklearn LinearSVC**, train a linear svm"
   ]
  },
  {
   "cell_type": "code",
   "execution_count": 12,
   "id": "b5b71c3b-0dda-4976-8e26-5818dde0e385",
   "metadata": {},
   "outputs": [],
   "source": [
    "# y_fruits = fruits[fruits.columns[:1]]\n",
    "# X_fruits = fruits[fruits.columns[1:]]\n",
    "\n",
    "X_fruits = fruits[feature_names_fruits]\n",
    "y_fruits = fruits['fruit_label']"
   ]
  },
  {
   "cell_type": "code",
   "execution_count": 13,
   "id": "d1b4fde9-d4f7-457e-9da6-5fe34c682104",
   "metadata": {},
   "outputs": [],
   "source": [
    "tt = X_fruits[['height','width']]\n",
    "# X_fruits.drop('mass')\n",
    "X_train, X_test, y_train, y_test = train_test_split(tt, y_fruits, test_size=0.25, random_state=0)"
   ]
  },
  {
   "cell_type": "code",
   "execution_count": 14,
   "id": "d0da2552-c8b8-4f85-a3d8-abd39522ce81",
   "metadata": {},
   "outputs": [
    {
     "data": {
      "text/plain": [
       "LinearSVC()"
      ]
     },
     "execution_count": 14,
     "metadata": {},
     "output_type": "execute_result"
    }
   ],
   "source": [
    "from sklearn.svm import LinearSVC\n",
    "clf = LinearSVC()\n",
    "clf.fit(X_train, y_train)"
   ]
  },
  {
   "cell_type": "markdown",
   "id": "a611f9a5-9b50-4254-9758-b345c0a8b004",
   "metadata": {
    "tags": []
   },
   "source": [
    "#### Question 5\n",
    "For the previous model from question 4. \n",
    "1. How many SVM models have been trained? and Why?\n",
    "2. Print the models' coefficients and intercepts."
   ]
  },
  {
   "cell_type": "code",
   "execution_count": 15,
   "id": "198986b3-3f87-4dda-8143-c87730ddea6f",
   "metadata": {},
   "outputs": [
    {
     "name": "stdout",
     "output_type": "stream",
     "text": [
      "number of models =  4\n"
     ]
    }
   ],
   "source": [
    "print(\"number of models = \", len(clf.coef_))"
   ]
  },
  {
   "cell_type": "markdown",
   "id": "f0cea4c3-4082-49e9-a1a4-76deead19266",
   "metadata": {},
   "source": [
    "**one-vs-rest approach** ----> 4 classes ----> 4 models"
   ]
  },
  {
   "cell_type": "code",
   "execution_count": 16,
   "id": "09998fa3-8a27-4710-b9ab-0be2521e52a4",
   "metadata": {},
   "outputs": [
    {
     "name": "stdout",
     "output_type": "stream",
     "text": [
      "models' coefficients:\n"
     ]
    },
    {
     "data": {
      "text/plain": [
       "array([[-0.27578178,  0.47054165],\n",
       "       [-1.10790286,  0.78986001],\n",
       "       [-0.02759899,  0.20469181],\n",
       "       [ 1.01167376, -1.2616027 ]])"
      ]
     },
     "execution_count": 16,
     "metadata": {},
     "output_type": "execute_result"
    }
   ],
   "source": [
    "print(\"models' coefficients:\")\n",
    "clf.coef_"
   ]
  },
  {
   "cell_type": "code",
   "execution_count": 17,
   "id": "3904f268-637f-42b6-a4d8-b474511c87ab",
   "metadata": {},
   "outputs": [
    {
     "name": "stdout",
     "output_type": "stream",
     "text": [
      "models' intercepts:\n"
     ]
    },
    {
     "data": {
      "text/plain": [
       "array([-1.49404704,  0.78668967, -1.70769598,  0.37249329])"
      ]
     },
     "execution_count": 17,
     "metadata": {},
     "output_type": "execute_result"
    }
   ],
   "source": [
    "print(\"models' intercepts:\")\n",
    "clf.intercept_"
   ]
  },
  {
   "cell_type": "markdown",
   "id": "38e23755-67ec-4206-82f8-510af6afb99a",
   "metadata": {},
   "source": [
    "#### Question 6\n",
    "Plot the classification boundary of each svm on a scatter plot of the training data."
   ]
  },
  {
   "cell_type": "code",
   "execution_count": 18,
   "id": "2ef2eafe-c184-4921-a1a1-7004360751dc",
   "metadata": {},
   "outputs": [
    {
     "data": {
      "image/png": "[encoded data removed]",
      "text/plain": [
       "<Figure size 432x288 with 1 Axes>"
      ]
     },
     "metadata": {
      "needs_background": "light"
     },
     "output_type": "display_data"
    }
   ],
   "source": [
    "X_modified = np.array(X_train)\n",
    "plot_class_regions_for_classifier(clf, X_modified, y_train)"
   ]
  },
  {
   "cell_type": "markdown",
   "id": "2e11ad7d-6ae9-46b2-b788-ed90ea00dcfb",
   "metadata": {},
   "source": [
    "from sklearn.datasets import load_breast_cancer\n",
    "(X_cancer, y_cancer) = load_breast_cancer(return_X_y = True)### Use the breast cancer dataset in question 7, 8, and9."
   ]
  },
  {
   "cell_type": "code",
   "execution_count": 19,
   "id": "de479d67-6c2c-4be0-9526-83fe840138c4",
   "metadata": {},
   "outputs": [],
   "source": [
    "from sklearn.datasets import load_breast_cancer\n",
    "(X_cancer, y_cancer) = load_breast_cancer(return_X_y = True)"
   ]
  },
  {
   "cell_type": "markdown",
   "id": "19edd997-56a1-4a8d-bbc8-5d53a8aa3a1a",
   "metadata": {},
   "source": [
    "#### Question 7\n",
    "1. Split the dataset into training and testing datasets, use random_state = 0, and 25% of the data for testing.\n",
    "2. Use GridSearchCV to find the best C value for and SVM classifier with rbf kernel and print the best C value. *use:*  \n",
    "```python\n",
    "parameters = {'kernel' : ('poly', 'rbf'), 'C':[0.01, 0.1, 0.5, 1, 10]}\n",
    "```\n",
    "3. Print the best parameters resulted from your grid search."
   ]
  },
  {
   "cell_type": "code",
   "execution_count": 20,
   "id": "6dd991c7-6102-4064-b818-f3ddf41150a2",
   "metadata": {},
   "outputs": [],
   "source": [
    "from sklearn.model_selection import  train_test_split\n",
    "X_train, X_test, y_train, y_test = train_test_split(X_cancer, y_cancer, test_size=0.25, random_state=0)"
   ]
  },
  {
   "cell_type": "code",
   "execution_count": 21,
   "id": "7f63e281-bea5-4559-b39a-4ee2c733607c",
   "metadata": {},
   "outputs": [],
   "source": [
    "from sklearn.svm import SVC\n",
    "clf = SVC(kernel='rbf')"
   ]
  },
  {
   "cell_type": "code",
   "execution_count": 22,
   "id": "13a88e01-c565-4a50-b213-d749f596847e",
   "metadata": {},
   "outputs": [
    {
     "name": "stdout",
     "output_type": "stream",
     "text": [
      "{'C': 10, 'kernel': 'rbf'}\n"
     ]
    }
   ],
   "source": [
    "from sklearn.model_selection import GridSearchCV\n",
    "parameters = {'kernel' : ('poly', 'rbf'), 'C':[0.01, 0.1, 0.5, 1, 10]}\n",
    "\n",
    "grid_clf = GridSearchCV(estimator=clf, param_grid=parameters)\n",
    "grid_clf.fit(X_train, y_train)\n",
    "print(grid_clf.best_params_)"
   ]
  },
  {
   "cell_type": "markdown",
   "id": "0b0a89ca-c6a7-4ee2-8816-f548f3d1c370",
   "metadata": {},
   "source": [
    "#### Question 8\n",
    "Train an SVM model using the best parameters resulted from question 7, then calculate and print the training and testing accuracy."
   ]
  },
  {
   "cell_type": "code",
   "execution_count": 23,
   "id": "01cff031-bb89-4312-a4e4-625d75c7063d",
   "metadata": {},
   "outputs": [
    {
     "data": {
      "text/plain": [
       "SVC(C=10)"
      ]
     },
     "execution_count": 23,
     "metadata": {},
     "output_type": "execute_result"
    }
   ],
   "source": [
    "from sklearn.svm import SVC\n",
    "\n",
    "clf = SVC(C=10, kernel='rbf')\n",
    "clf.fit(X_train, y_train)"
   ]
  },
  {
   "cell_type": "code",
   "execution_count": 24,
   "id": "9c8b50c0-556b-4f24-ac3b-4948387d9f88",
   "metadata": {},
   "outputs": [
    {
     "name": "stdout",
     "output_type": "stream",
     "text": [
      "train score =  0.9154929577464789  ----> accuracy =  91.549  %\n",
      "test score =  0.9370629370629371  ----> accuracy =  93.706  %\n"
     ]
    }
   ],
   "source": [
    "train = clf.score(X_train, y_train)\n",
    "print(\"train score = \", train, \" ----> accuracy = \", round(train*100, 3), \" %\")\n",
    "test = clf.score(X_test, y_test)\n",
    "print(\"test score = \", test, \" ----> accuracy = \", round(test*100, 3), \" %\")"
   ]
  },
  {
   "cell_type": "markdown",
   "id": "04675165-358e-4881-b04c-448f78830b38",
   "metadata": {},
   "source": [
    "#### Question 9\n",
    "Improve the previous results from question 8.\n",
    "\n",
    "**Hint:** Don't change the model, instead, make some preprocessing on the data."
   ]
  },
  {
   "cell_type": "markdown",
   "id": "c52b3329-9e2f-4e09-bd26-adbed2f65efa",
   "metadata": {},
   "source": [
    "#### Using StandardScaler:"
   ]
  },
  {
   "cell_type": "code",
   "execution_count": 25,
   "id": "bc5ca6de-9cdf-4209-919e-25e135e15838",
   "metadata": {},
   "outputs": [],
   "source": [
    "from sklearn import preprocessing\n",
    "\n",
    "standardScaler = preprocessing.StandardScaler().fit(X_cancer)\n",
    "X_scaled = standardScaler.transform(X_cancer)\n",
    "X_train, X_test, y_train, y_test = train_test_split(X_scaled, y_cancer, test_size=0.25, random_state=0)"
   ]
  },
  {
   "cell_type": "code",
   "execution_count": 26,
   "id": "c2c7b408-fe4a-4535-b05c-f6f2c965093d",
   "metadata": {},
   "outputs": [
    {
     "data": {
      "text/plain": [
       "SVC(C=10)"
      ]
     },
     "execution_count": 26,
     "metadata": {},
     "output_type": "execute_result"
    }
   ],
   "source": [
    "clf = SVC(C=10, kernel='rbf')\n",
    "clf.fit(X_train, y_train)"
   ]
  },
  {
   "cell_type": "code",
   "execution_count": 27,
   "id": "2bc0d1ab-4eb6-41f1-a650-cdcaeeaa366d",
   "metadata": {},
   "outputs": [
    {
     "name": "stdout",
     "output_type": "stream",
     "text": [
      "train score =  0.9882629107981221  ----> accuracy =  98.826  %\n",
      "test score =  0.993006993006993  ----> accuracy =  99.301  %\n"
     ]
    }
   ],
   "source": [
    "train = clf.score(X_train, y_train)\n",
    "print(\"train score = \", train, \" ----> accuracy = \", round(train*100, 3), \" %\")\n",
    "test = clf.score(X_test, y_test)\n",
    "print(\"test score = \", test, \" ----> accuracy = \", round(test*100, 3), \" %\")"
   ]
  },
  {
   "cell_type": "markdown",
   "id": "2e712d7b-2f38-40a6-b7e9-152a759ddca2",
   "metadata": {},
   "source": [
    "#### Using MinMaxScaler:"
   ]
  },
  {
   "cell_type": "code",
   "execution_count": 28,
   "id": "5622a858-6ba0-4085-9953-5a8753fb127c",
   "metadata": {},
   "outputs": [],
   "source": [
    "from sklearn import preprocessing\n",
    "\n",
    "standardScaler = preprocessing.MinMaxScaler().fit(X_cancer)\n",
    "X_scaled = standardScaler.transform(X_cancer)\n",
    "X_train, X_test, y_train, y_test = train_test_split(X_scaled, y_cancer, test_size=0.25, random_state=0)"
   ]
  },
  {
   "cell_type": "code",
   "execution_count": 29,
   "id": "c3a68354-599d-4236-b4d6-bf454d51ff4d",
   "metadata": {},
   "outputs": [
    {
     "data": {
      "text/plain": [
       "SVC(C=10)"
      ]
     },
     "execution_count": 29,
     "metadata": {},
     "output_type": "execute_result"
    }
   ],
   "source": [
    "clf = SVC(C=10, kernel='rbf')\n",
    "clf.fit(X_train, y_train)"
   ]
  },
  {
   "cell_type": "code",
   "execution_count": 30,
   "id": "d8165da3-79b2-436c-a212-f3964d984130",
   "metadata": {},
   "outputs": [
    {
     "name": "stdout",
     "output_type": "stream",
     "text": [
      "train score =  0.9882629107981221  ----> accuracy =  98.826  %\n",
      "test score =  0.9790209790209791  ----> accuracy =  97.902  %\n"
     ]
    }
   ],
   "source": [
    "train = clf.score(X_train, y_train)\n",
    "print(\"train score = \", train, \" ----> accuracy = \", round(train*100, 3), \" %\")\n",
    "test = clf.score(X_test, y_test)\n",
    "print(\"test score = \", test, \" ----> accuracy = \", round(test*100, 3), \" %\")"
   ]
  },
  {
   "cell_type": "markdown",
   "id": "f7a953e4-e0bb-477f-bfd6-6091c8ede447",
   "metadata": {},
   "source": [
    "#### Using Normalizer:"
   ]
  },
  {
   "cell_type": "code",
   "execution_count": 31,
   "id": "b37f2454-f27d-47a6-8761-e44a9dcf13d6",
   "metadata": {
    "tags": []
   },
   "outputs": [],
   "source": [
    "from sklearn import preprocessing\n",
    "\n",
    "standardScaler = preprocessing.Normalizer().fit(X_cancer)\n",
    "X_scaled = standardScaler.transform(X_cancer)\n",
    "X_train, X_test, y_train, y_test = train_test_split(X_scaled, y_cancer, test_size=0.25, random_state=0)"
   ]
  },
  {
   "cell_type": "code",
   "execution_count": 32,
   "id": "6c549a87-54bc-4049-8aa4-e8dcd1e56dd5",
   "metadata": {},
   "outputs": [
    {
     "data": {
      "text/plain": [
       "SVC(C=10)"
      ]
     },
     "execution_count": 32,
     "metadata": {},
     "output_type": "execute_result"
    }
   ],
   "source": [
    "clf = SVC(C=10, kernel='rbf')\n",
    "clf.fit(X_train, y_train)"
   ]
  },
  {
   "cell_type": "code",
   "execution_count": 33,
   "id": "486a9a35-9917-4ba1-a40f-7f2817c59fec",
   "metadata": {},
   "outputs": [
    {
     "name": "stdout",
     "output_type": "stream",
     "text": [
      "train score =  0.9154929577464789  ----> accuracy =  91.549  %\n",
      "test score =  0.9230769230769231  ----> accuracy =  92.308  %\n"
     ]
    }
   ],
   "source": [
    "train = clf.score(X_train, y_train)\n",
    "print(\"train score = \", train, \" ----> accuracy = \", round(train*100, 3), \" %\")\n",
    "test = clf.score(X_test, y_test)\n",
    "print(\"test score = \", test, \" ----> accuracy = \", round(test*100, 3), \" %\")"
   ]
  },
  {
   "cell_type": "markdown",
   "id": "859aeccd-9047-4efa-a430-345a576c60d8",
   "metadata": {},
   "source": [
    "#### Using OneHotEncoder:"
   ]
  },
  {
   "cell_type": "code",
   "execution_count": 34,
   "id": "5e7af380-3866-4fc2-8db7-d6c841e97086",
   "metadata": {},
   "outputs": [],
   "source": [
    "from sklearn import preprocessing\n",
    "\n",
    "standardScaler = preprocessing.OneHotEncoder().fit(X_cancer)\n",
    "X_scaled = standardScaler.transform(X_cancer)\n",
    "X_train, X_test, y_train, y_test = train_test_split(X_scaled, y_cancer, test_size=0.25, random_state=0)"
   ]
  },
  {
   "cell_type": "code",
   "execution_count": 35,
   "id": "601f02bd-717d-495d-96a0-4e9ab6f41b84",
   "metadata": {},
   "outputs": [
    {
     "data": {
      "text/plain": [
       "SVC(C=10)"
      ]
     },
     "execution_count": 35,
     "metadata": {},
     "output_type": "execute_result"
    }
   ],
   "source": [
    "clf = SVC(C=10, kernel='rbf')\n",
    "clf.fit(X_train, y_train)"
   ]
  },
  {
   "cell_type": "code",
   "execution_count": 36,
   "id": "2037d98c-f7b2-4e7a-b7ab-eabedb9dd3f8",
   "metadata": {},
   "outputs": [
    {
     "name": "stdout",
     "output_type": "stream",
     "text": [
      "train score =  1.0  ----> accuracy =  100.0  %\n",
      "test score =  0.6293706293706294  ----> accuracy =  62.937  %\n"
     ]
    }
   ],
   "source": [
    "train = clf.score(X_train, y_train)\n",
    "print(\"train score = \", train, \" ----> accuracy = \", round(train*100, 3), \" %\")\n",
    "test = clf.score(X_test, y_test)\n",
    "print(\"test score = \", test, \" ----> accuracy = \", round(test*100, 3), \" %\")"
   ]
  },
  {
   "cell_type": "markdown",
   "id": "52ea9d0f-6a29-4154-92e7-5197fbab29fb",
   "metadata": {},
   "source": [
    "#### Using Binarizer:"
   ]
  },
  {
   "cell_type": "code",
   "execution_count": 37,
   "id": "25b6466d-cc75-468f-9985-d51337060550",
   "metadata": {},
   "outputs": [],
   "source": [
    "from sklearn import preprocessing\n",
    "\n",
    "standardScaler = preprocessing.Binarizer().fit(X_cancer)\n",
    "X_scaled = standardScaler.transform(X_cancer)\n",
    "X_train, X_test, y_train, y_test = train_test_split(X_scaled, y_cancer, test_size=0.25, random_state=0)"
   ]
  },
  {
   "cell_type": "code",
   "execution_count": 38,
   "id": "8a548eac-c37e-4b61-970b-9955f2167e3d",
   "metadata": {},
   "outputs": [
    {
     "data": {
      "text/plain": [
       "SVC(C=10)"
      ]
     },
     "execution_count": 38,
     "metadata": {},
     "output_type": "execute_result"
    }
   ],
   "source": [
    "clf = SVC(C=10, kernel='rbf')\n",
    "clf.fit(X_train, y_train)"
   ]
  },
  {
   "cell_type": "code",
   "execution_count": 39,
   "id": "cc424626-040b-4ad1-a6e8-9ce2c94a64f7",
   "metadata": {},
   "outputs": [
    {
     "name": "stdout",
     "output_type": "stream",
     "text": [
      "train score =  0.6267605633802817  ----> accuracy =  62.676  %\n",
      "test score =  0.6293706293706294  ----> accuracy =  62.937  %\n"
     ]
    }
   ],
   "source": [
    "train = clf.score(X_train, y_train)\n",
    "print(\"train score = \", train, \" ----> accuracy = \", round(train*100, 3), \" %\")\n",
    "test = clf.score(X_test, y_test)\n",
    "print(\"test score = \", test, \" ----> accuracy = \", round(test*100, 3), \" %\")"
   ]
  },
  {
   "cell_type": "markdown",
   "id": "3fceb462-30de-426f-a9a6-6c960ef90823",
   "metadata": {},
   "source": [
    "**we can see that:**  \n",
    "- StandardScaler & MinMaxScaler & Normalizer: produce fine results whether in train or test data.  \n",
    "- OneHotEncoder: overfitting on train data, poor performance on test data.  \n",
    "- Binarizer: poor performance on both trian and test data.  "
   ]
  }
 ],
 "metadata": {
  "kernelspec": {
   "display_name": "Python 3 (ipykernel)",
   "language": "python",
   "name": "python3"
  },
  "language_info": {
   "codemirror_mode": {
    "name": "ipython",
    "version": 3
   },
   "file_extension": ".py",
   "mimetype": "text/x-python",
   "name": "python",
   "nbconvert_exporter": "python",
   "pygments_lexer": "ipython3",
   "version": "3.8.12"
  }
 },
 "nbformat": 4,
 "nbformat_minor": 5
}
